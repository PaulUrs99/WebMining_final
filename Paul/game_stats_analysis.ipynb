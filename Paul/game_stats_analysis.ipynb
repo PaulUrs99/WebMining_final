{
 "cells": [
  {
   "cell_type": "code",
   "execution_count": 2,
   "metadata": {},
   "outputs": [],
   "source": [
    "import pandas as pd\n",
    "import os\n",
    "import numpy as np\n",
    "import json"
   ]
  },
  {
   "cell_type": "code",
   "execution_count": 3,
   "metadata": {},
   "outputs": [
    {
     "name": "stdout",
     "output_type": "stream",
     "text": [
      "405\n",
      "['112_Operator', '60_Seconds!_Reatomized', '7_Days_to_Die', 'A_Dance_of_Fire_and_Ice', 'A_Hat_in_Time', 'A_Little_to_the_Left', 'A_Way_Out', 'Abiotic_Factor', 'Age_of_Empires_II_(2013)', 'Age_of_History_II', 'Albion_Online', 'Alien_Shooter', 'Aliens_vs._Predator', 'American_Truck_Simulator', 'Ancestors_Legacy', 'Arma_3', 'Arma_Reforger', 'Asphalt_Legends_Unite', 'Assetto_Corsa', 'Atom_Fishing_II', 'Atom_Zombie_Smasher_', 'Atomic_Heart', 'Awesomenauts', 'BATTLETECH', 'BRAIN_-_OUT', 'BZZZT', 'Back_to_Bed', 'Backpack_Battles', \"Baldur's_Gate_3\", 'Ballistic_Overkill', 'Barotrauma', 'Battle_Brothers', 'Battlefield_1_™', 'Battlefield_3™_', 'Battlefield_4™_', 'Battlefield™_2042', 'Battlefield™_V', 'Bejeweled_3', 'Bellwright', 'Besiege', 'Big_Ambitions', 'Biped', 'Bit_Heroes', 'Block_N_Load', 'Bloons_TD_6', 'Bloons_TD_Battles', 'Borderlands_3', 'BrainBread_2', 'Brotato', 'Business_Tour_-_Online_Multiplayer_Board_Game', 'Caliber', 'Call_of_Duty®', 'Call_of_Juarez_Gunslinger', 'CarX_Drift_Racing_Online', 'CarX_Street', 'Car_For_Sale_Simulator_2023', 'Car_Mechanic_Simulator_2018', 'Car_Mechanic_Simulator_2021', 'Cat_Quest', 'Cat_Quest_II', 'Cats', 'Celeste', 'Chinese_Chess', 'Chinese_Paladin：Sword_and_Fairy', 'Chivalry_2', 'City_Car_Driving', 'Clicker_Heroes', 'Codename_CURE', 'Company_of_Heroes_2', 'Counter-Strike', 'Counter-Strike_2', 'Counter-Strike_Nexon', 'Crash_Bandicoot™_N._Sane_Trilogy', 'Crystal_Clash', 'Cube_Racer', 'Cuphead', 'Cyber_Hook', 'DAVE_THE_DIVER', 'DEATH_STRANDING', 'DEVOUR', 'DIRT_5', 'Darksiders_Warmastered_Edition', 'DayZ', 'Days_Gone', 'Dead_Island_Definitive_Edition', 'Dead_Rising_3', 'Dead_by_Daylight', 'Death_Must_Die', 'Deceit', 'Deep_Rock_Galactic', 'Defense_Grid_2', 'Demonologist', 'Depth', 'Descenders', 'DiRT_Rally', 'DiRT_Rally_2.0', 'Dirty_Bomb', 'Disney_Dreamlight_Valley', \"Don't_Starve\", 'Dragon_Age™_Inquisition', 'Dragon_Saga', 'Drunken_Wrestlers_2', 'Duck_Game', 'Dungeon_Fighter_Online', 'Dungeonborne', 'Dying_Light', 'Dyson_Sphere_Program', 'EA_SPORTS_FC™_24', 'EA_SPORTS_FC™_25', 'EA_SPORTS™_FIFA_21_', 'EA_SPORTS™_FIFA_23', 'ELEX', 'ELEX_II', 'ENDLESS™_Legend', 'ENDLESS™_Space_2', \"Earthling's_Undertaking\", 'Eco', 'Element_TD_2', 'Empires_Apart', 'Endless_Road：Reborn', 'Enlisted', 'Enter_the_Gungeon', 'Euro_Truck_Simulator_2', 'Evolve_Stage_2', 'F1_2015', 'F1_2018', 'F1_2019', 'F1®_Manager_2022', 'FIFA_22', 'FINAL_FANTASY_IX', 'FINAL_FANTASY_XVI', 'Factorio', 'Fallout_Shelter', 'Farm_Together', 'Farthest_Frontier', 'Fisher_Online', 'Fishing_Planet', 'Fistful_of_Frags', 'Football_Manager_2011', 'Football_Manager_2012_Korean', 'Football_Manager_2012_Russian', 'Football_Manager_2013', 'Football_Manager_2014', 'Football_Manager_2015', 'Football_Manager_2016', 'Football_Manager_2017', 'Football_Manager_2018', 'Football_Manager_2019', 'Football_Manager_2020', 'For_The_King', 'Forts', 'Forza_Horizon_4', 'Forza_Horizon_5', 'GRID_2', 'GRID_Autosport', \"Garry's_Mod\", 'Gems_of_War', 'Ghost_Watchers', 'Ghostrunner', 'Gloria_Victis', 'Golf_It!', 'Golf_With_Your_Friends', 'Goose_Goose_Duck', 'Gordian_Quest', 'Governor_of_Poker_3', 'Grand_Theft_Auto_V', 'Green_Hell', 'Grim_Dawn', 'Gunfire_Reborn', 'Hatred', 'Hell_Let_Loose', \"Hero's_Land\", 'Heroes_of_Might_&_Magic_III_-_HD_Edition', 'Hired_Ops', 'Home_Behind', 'Homefront', 'Horizon_Forbidden_West™_Complete_Edition', 'Hotline_Miami', 'House_Flipper', 'How_to_Survive', 'How_to_Survive_2', 'HudSight_-_crosshair_overlay', 'Human_Fall_Flat', 'Icarus', 'Ice_Lakes', 'Idol_Showdown', 'Infected_Shelter', 'Influent', 'Injustice™_2', 'Insanity_Clicker', 'Inside_the_Backrooms', 'Insurgency', 'Island_Saver', 'It_Takes_Two', 'Journey_of_Greed', 'Kalpa_of_Sword', 'Killing_Floor', 'Killing_Floor_2', 'Kingdom_Heroes_8', 'KurtzPel', 'Labyrinthine', 'Lambda_Wars', 'Last_Oasis', 'Leaf_Blower_Revolution_-_Idle_Game', 'Left_4_Dead', 'Left_4_Dead_2', 'Legend_of_Merchant', \"Let's_School\", 'Liftoff', 'Little_Nightmares', 'Little_Nightmares_II', 'Live_Wallpaper_Master', 'Lost_Castle', 'Lost_Castle_2', 'Lucius', 'Luma_Island', 'MONOPOLY_Poker', 'MORDHAU', 'Magicka_2', 'Magicraft', \"Marvel's_Avengers_-_The_Definitive_Edition\", 'Marvel_Rivals', 'Mass_Effect™_Legendary_Edition', 'MechWarrior_Online', 'Medieval_Dynasty', 'Metro_Exodus', 'Metro_Exodus_Enhanced_Edition', 'Microcivilization', 'Microsoft_Flight_Simulator', 'Mindustry', 'Mini_Motorways', 'Miscreated', 'Modern_Combat_Versus', 'Monster_Sanctuary', 'MorphVOX_Pro_4_-_Voice_Changer', 'Mortal_Kombat_Komplete_Edition', 'Move_or_Die', 'MudRunner', 'Muse_Dash', 'Mushroom_Wars_2', 'Necesse', 'Need_for_Speed™_Heat_', 'Need_for_Speed™_Payback', 'Need_for_Speed™_Unbound', 'Night_of_the_Dead', 'Night_of_the_Full_Moon', 'Nioh_2_–_The_Complete_Edition', 'No_More_Room_in_Hell', 'Nobody_-_The_Turnaround', 'Nosgoth', 'Not_For_Broadcast', 'Notes_of_Soul', 'OUTRIDERS', 'One-armed_cook', 'Orcs_Must_Die!_3', 'Ori_and_the_Blind_Forest', 'Ori_and_the_Will_of_the_Wisps', 'Orion_Sandbox_Enhanced', 'PAYDAY_2', 'PC_Building_Simulator', 'POSTAL_2', 'Paper_Trail', 'Partisans_1941', 'Path_of_Exile', 'People_Playground', 'Phoenix_Point', 'Planet_Coaster', 'Planet_Zoo', 'Poker_Master', 'Poly_Bridge', 'Portal_2', 'Project_Winter', 'Prominence_Poker', 'Prop_and_Seek', 'Propnight', 'Quake_Live', 'Quantum_Conundrum', 'Raft', 'Ragnarok_Clicker', 'Railroad_Corporation', 'Ranch_Simulator', 'Ready_or_Not', 'Realm_of_the_Mad_God_Exalt', 'Red_Dead_Redemption_2', 'Redmatch_2', 'Rento_Fortune_-_Multiplayer_Board_Game', 'Return_to_Monkey_Island', 'Richman10', 'Richman_11', 'Rise_of_the_Tomb_Raider', 'Rising_Storm-Red_Orchestra_2_Multiplayer', 'Rivals_of_Aether', 'Rivals_of_Aether_II', 'Robocraft', 'Roboquest', 'Rocket_League', 'Rubber_Bandits', 'Rust', \"Rusty's_Retirement\", 'SCUM', 'SILENT_HILL_2', 'STAR_WARS™_Battlefront™_II', 'Satisfactory', 'Secret_Neighbor', 'Shadow_Warrior', 'Shadow_of_the_Tomb_Raider', 'ShellShock_Live', \"Sid_Meier's_Civilization_V\", \"Sid_Meier's_Civilization_VI\", 'Slay_the_Spire', 'Sniper_Ghost_Warrior_3', 'Soldier_Front_2', 'Sonic_Generations', 'Sons_Of_The_Forest', 'Soul_at_Stake_-_1v4', 'Soulstone_Survivors', 'South_Park_The_Fractured_But_Whole', 'Space_Engineers', 'SpeedRunners', 'Spellbreak', 'Spin_Rhythm_XD', 'Spintires®', 'Starbound', 'Stardew_Valley', 'Stranded_Deep', 'Stronghold_2', 'Stronghold_Crusader_2', 'Stumble_Guys', 'Subnautica', 'Sudden_Strike_4', 'Super_Animal_Royale', 'Supreme_Commander_2', 'Survarium', 'Sword_and_Fairy_7', 'TEKKEN_7', 'TEKKEN_8', 'THE_FINALS', 'THE_KING_OF_FIGHTERS_2002_UNLIMITED_MATCH', 'THE_KING_OF_FIGHTERS_XIII_STEAM_EDITION', 'TRIANGLE_STRATEGY', 'Tabletop_Simulator', 'Tactical_Intervention', 'Tasty_Blue', 'Teamfight_Manager', 'Tennis_Elbow_4', 'TerraTech', 'Terraria', 'The_Forest', 'The_Last_Spell', 'The_Last_of_Us™_Part_I', 'The_Long_Dark', 'The_Stanley_Parable', 'They_Are_Billions', 'Third_Crisis', 'Tiny_Rogues', 'Titan_Quest_Anniversary_Edition', 'Titanfall®_2', 'Tomb_Raider_I-III_Remastered_Starring_Lara_Croft', 'Torchlight_II', 'Torque_Drift', 'Totally_Accurate_Battle_Simulator', \"Touhou_Mystia's_Izakaya\", 'Train_Sim_World®_2', 'Train_Simulator_Classic_2024', 'Tropico_6', 'Truck_Life', 'Turmoil', 'Two_Point_Hospital', 'ULTRAKILL', 'Ukrainian_Ninja', 'Ultimate_Fishing_Simulator', 'UnderMine', 'Underrail', 'Undisputed', 'Unturned', 'Vigor', 'Walking_Zombie_2', 'Wallpaper_Engine', 'Wandering_Sword', 'War_Thunder', 'War_of_Rights', 'Warframe', 'Warspear_Online', 'Waveform', 'West_Hunt', 'What_the_Fog', 'Witch_It', 'Wizard_And_Minion_Idle', 'World_War_Z', 'World_of_Tanks', 'World_of_Warships', 'Worms_Reloaded', 'Wreckfest', 'Wurm_Online', 'Ylands', 'Zula_Türkiye', 'art_of_rally', '古剑奇谭二(GuJian2)', '天外武林_(Traveler_of_Wuxia)', '懒人修仙传2', '暖雪_Warm_Snow', '武侠乂', '河洛群俠傳_(Ho_Tu_Lo_Shu_：_The_Books_of_Dragon)', '火炬之光：无限', '轮回修仙路']\n"
     ]
    }
   ],
   "source": [
    "\n",
    "# Datei einlesen\n",
    "ordner_spieldaten = r'C:\\Users\\paulu\\OneDrive\\Dokumente\\GitHub\\WebMining\\Paul\\Spielerdaten'\n",
    "games_data = os.listdir(ordner_spieldaten)\n",
    "#print(games_data)\n",
    "#print(len(games_data))\n",
    "game_names = []\n",
    "#extract all game names from the folder by splitting after the first underscore from the right\n",
    "for game in games_data:\n",
    "    game_names.append(game.rsplit('_',1)[0])\n",
    "game_names_unique = sorted(list(set(game_names)))\n",
    "print(len(game_names_unique))\n",
    "print(game_names_unique)\n"
   ]
  },
  {
   "cell_type": "code",
   "execution_count": 5,
   "metadata": {},
   "outputs": [
    {
     "name": "stdout",
     "output_type": "stream",
     "text": [
      "CSV-Datei wurde erfolgreich erstellt: C:\\Users\\paulu\\OneDrive\\Dokumente\\GitHub\\WebMining\\Paul\\spiel_daten_anzahl.csv\n"
     ]
    }
   ],
   "source": [
    "# Spielnamen extrahieren\n",
    "spielnamen = []\n",
    "\n",
    "# Alle Dateien im Verzeichnis durchgehen\n",
    "for datei in os.listdir(ordner_spieldaten):\n",
    "    if datei.endswith(\".json\"):\n",
    "        spielname = datei.rsplit(\"_\", 1)[0]  # Teil vor dem letzten Unterstrich\n",
    "        spielnamen.append(spielname)\n",
    "\n",
    "# Spiele und Anzahl der Dateien zählen\n",
    "spiel_counts = pd.Series(spielnamen).value_counts().reset_index()\n",
    "spiel_counts.columns = [\"Spielname\", \"Anzahl Dateien\"]\n",
    "\n",
    "# CSV-Datei erstellen\n",
    "Ablageordner = r\"C:\\Users\\paulu\\OneDrive\\Dokumente\\GitHub\\WebMining\\Paul\"\n",
    "csv_datei_pfad = os.path.join(Ablageordner, \"spiel_daten_anzahl.csv\")\n",
    "spiel_counts.to_csv(csv_datei_pfad, index=False, encoding=\"utf-8\")\n",
    "\n",
    "print(f\"CSV-Datei wurde erfolgreich erstellt: {csv_datei_pfad}\")"
   ]
  },
  {
   "cell_type": "code",
   "execution_count": 4,
   "metadata": {},
   "outputs": [],
   "source": [
    "spiele = [\n",
    "        {\"appid\": 730, \"name\": \"Counter-Strike 2\"},\n",
    "        {\"appid\": 240, \"name\": \"Counter-Strike: Source\"},\n",
    "        {\"appid\": 648800, \"name\": \"Raft\"},\n",
    "        {\"appid\": 252490, \"name\": \"Rust\"},\n",
    "        {\"appid\": 221100, \"name\": \"DayZ\"},\n",
    "        {\"appid\": 218620, \"name\": \"Payday2\"},\n",
    "        {\"appid\": 222880, \"name\": \"Insurgency\"},\n",
    "]"
   ]
  },
  {
   "cell_type": "code",
   "execution_count": 5,
   "metadata": {},
   "outputs": [
    {
     "name": "stdout",
     "output_type": "stream",
     "text": [
      "                                     name   value\n",
      "0                             total_kills    9864\n",
      "1                            total_deaths   10923\n",
      "2                       total_time_played  884209\n",
      "3                     total_planted_bombs     528\n",
      "4                     total_defused_bombs     104\n",
      "..                                    ...     ...\n",
      "167       GI.lesson.tr_explain_plant_bomb      16\n",
      "168                GI.lesson.bomb_sites_B       1\n",
      "169              GI.lesson.version_number      16\n",
      "170      GI.lesson.csgo_instr_rescue_zone       0\n",
      "171  GI.lesson.csgo_instr_explain_inspect      32\n",
      "\n",
      "[172 rows x 2 columns]\n"
     ]
    }
   ],
   "source": [
    "datei = r\"C:\\Users\\paulu\\OneDrive\\Dokumente\\GitHub\\WebMining\\Paul\\Spielerdaten\\Counter-Strike_2_76561198109637371.json\"\n",
    "\n",
    "#Datei in DataFrame laden und nur die Attribute \"name\" und \"value\" in einer Tabelle ausgeben\n",
    "with open(datei, \"r\", encoding=\"utf-8\") as file:\n",
    "    data = json.load(file)\n",
    "    df = pd.DataFrame(data[\"playerstats\"][\"stats\"])\n",
    "    df = df[[\"name\", \"value\"]]\n",
    "    print(df)\n"
   ]
  },
  {
   "cell_type": "code",
   "execution_count": 3,
   "metadata": {},
   "outputs": [
    {
     "name": "stdout",
     "output_type": "stream",
     "text": [
      "Größe des Datensatzes:  (3335987, 6)\n",
      "Anzahl der Spieler:  27558\n",
      "Anzahl der einzigartigen Spiele:  36442\n",
      "Spiele, die von den meisten Spielern gespielt werden:  name\n",
      "Counter-Strike 2         24231\n",
      "Dota 2                   23385\n",
      "PUBG: BATTLEGROUNDS      18911\n",
      "Wallpaper Engine         11864\n",
      "Left 4 Dead 2            11802\n",
      "Apex Legends             11639\n",
      "Dota Underlords           9385\n",
      "Warframe                  9310\n",
      "PAYDAY 2                  9168\n",
      "Don't Starve Together     8795\n",
      "Name: count, dtype: int64\n",
      "Spiele mit der meisten Spielzeit:  name\n",
      "Dota 2                            4930375381\n",
      "Counter-Strike 2                  1062872038\n",
      "PUBG: BATTLEGROUNDS                308523367\n",
      "Grand Theft Auto V                 133434462\n",
      "Rust                               107960394\n",
      "Apex Legends                        93939937\n",
      "Tom Clancy's Rainbow Six Siege      77928729\n",
      "Warframe                            67320629\n",
      "Wallpaper Engine                    56925491\n",
      "Team Fortress 2                     50709973\n",
      "Name: playtime_forever, dtype: int64\n",
      "Spieler mit der meisten Spielzeit:  steam_64_id\n",
      "76561198393005716    102320434\n",
      "76561198399183384     85577148\n",
      "76561198187952672     74640332\n",
      "76561198272436736     70772187\n",
      "76561198272436743     70685995\n",
      "76561198950206040     62631864\n",
      "76561198410958944     38047820\n",
      "76561198410958939     37872888\n",
      "76561198047346496     30646430\n",
      "76561198382465152     21291267\n",
      "Name: playtime_forever, dtype: int64\n"
     ]
    }
   ],
   "source": [
    "# Größe des Datensatzes\n",
    "dataset_size = main_df.shape\n",
    "\n",
    "# Anzahl der Spieler\n",
    "player_count = main_df['steam_64_id'].nunique()\n",
    "\n",
    "# Anzahl der einzigartigen Spiele (basierend auf AppID)\n",
    "unique_games_count = main_df['appid'].nunique()\n",
    "\n",
    "# Spiele, die von den meisten Spielern gespielt werden\n",
    "most_played_games = main_df['name'].value_counts().head(10)\n",
    "\n",
    "# Spiele mit der meisten Spielzeit (gemessen an \"playtime_forever\")\n",
    "most_played_time_games = main_df.groupby('name')['playtime_forever'].sum().sort_values(ascending=False).head(10)\n",
    "# groupby --> ein Eintrag pro Spiel; playtime_forever summiert für alle Spieler\n",
    "\n",
    "most_playing_player = main_df.groupby('steam_64_id')['playtime_forever'].sum().sort_values(ascending=False).head(10)\n",
    "\n",
    "\n",
    "print('Größe des Datensatzes: ', dataset_size)\n",
    "print('Anzahl der Spieler: ', player_count)\n",
    "print('Anzahl der einzigartigen Spiele: ', unique_games_count)\n",
    "print('Spiele, die von den meisten Spielern gespielt werden: ', most_played_games)\n",
    "print('Spiele mit der meisten Spielzeit: ', most_played_time_games)\n",
    "print('Spieler mit der meisten Spielzeit: ', most_playing_player)\n"
   ]
  },
  {
   "cell_type": "code",
   "execution_count": 30,
   "metadata": {},
   "outputs": [
    {
     "name": "stdout",
     "output_type": "stream",
     "text": [
      "Ursprüngliche Anzahl der Spieler:  27558\n",
      "Anzahl der Spieler mit 0 Minuten Gesamtspielzeit:  2330\n",
      "Anzahl der Spieler, die mehr als 0 Minuten gespielt haben: 25228\n",
      "Anzahl der gelöschten Spiele:  13948\n",
      "Anzahl der übrigen einzigartigen Spiele:  22494\n",
      "\n",
      "Shape des ursprünglichen DataFrames:  (3335987, 6)\n",
      "Shape des gefilterten DataFrames:  (1247917, 6)\n",
      "Anzahl gelöschter Einträge:  2088070\n"
     ]
    }
   ],
   "source": [
    "# Löschen von Spielern, die 0 Minuten gespielt haben\n",
    "\n",
    "# Gesamtspielzeit für jeden Spieler berechnen\n",
    "total_playtime = main_df.groupby('steam_64_id')['playtime_forever'].sum()\n",
    "\n",
    "# Spiele rausschmeißen, die weniger als 120 Minuten gespielt wurden\n",
    "valid_games = main_df[main_df['playtime_forever'] > 119]\n",
    "\n",
    "# Spieler mit Gesamtspielzeit > 0 filtern\n",
    "valid_players = total_playtime[total_playtime > 0].index\n",
    "\n",
    "# Nur die relevanten Spieler im ursprünglichen DataFrame behalten\n",
    "filtered_df = main_df[main_df['steam_64_id'].isin(valid_players)]\n",
    "filtered_df = filtered_df[filtered_df['playtime_forever'] > 119]\n",
    "# Anzahl der verbliebenen einzigartigen Spiele\n",
    "filtered_unique_games_count = filtered_df['appid'].nunique()\n",
    "\n",
    "# Ergebnis ausgeben\n",
    "print(\"Ursprüngliche Anzahl der Spieler: \", player_count)\n",
    "print(\"Anzahl der Spieler mit 0 Minuten Gesamtspielzeit: \", player_count - len(valid_players))\n",
    "print(\"Anzahl der Spieler, die mehr als 0 Minuten gespielt haben:\", len(valid_players))\n",
    "print(\"Anzahl der gelöschten Spiele: \", unique_games_count - filtered_unique_games_count)\n",
    "print(\"Anzahl der übrigen einzigartigen Spiele: \", filtered_unique_games_count)\n",
    "print()\n",
    "print(\"Shape des ursprünglichen DataFrames: \", main_df.shape)\n",
    "print(\"Shape des gefilterten DataFrames: \", filtered_df.shape)\n",
    "print(\"Anzahl gelöschter Einträge: \", main_df.shape[0] - filtered_df.shape[0])\n",
    "\n"
   ]
  },
  {
   "cell_type": "code",
   "execution_count": 31,
   "metadata": {},
   "outputs": [],
   "source": [
    "least_played_games = filtered_df['name'].value_counts().tail(10)\n",
    "least_playtime_games = filtered_df.groupby('name')['playtime_forever'].sum().sort_values().head(10)"
   ]
  },
  {
   "cell_type": "code",
   "execution_count": 32,
   "metadata": {},
   "outputs": [
    {
     "data": {
      "text/plain": [
       "name\n",
       "Sexy Space Airlines                 120\n",
       "Finding Frankie                     120\n",
       "The Radio Station | 深夜放送            120\n",
       "AniLive 动互播                         120\n",
       "VOLTED                              120\n",
       "FallenCore                          120\n",
       "BattleSpace                         120\n",
       "Lucifer Within Us                   120\n",
       "Rytmik Lite Chiptune Synthesizer    120\n",
       "Caveman Alive                       120\n",
       "Name: playtime_forever, dtype: int64"
      ]
     },
     "execution_count": 32,
     "metadata": {},
     "output_type": "execute_result"
    }
   ],
   "source": [
    "least_playtime_games"
   ]
  },
  {
   "cell_type": "code",
   "execution_count": 33,
   "metadata": {},
   "outputs": [
    {
     "name": "stdout",
     "output_type": "stream",
     "text": [
      "(25207, 22456)\n",
      "name                Elf World Adventure: Part 1   Sakura no Mori † Dreamers 2  \\\n",
      "steam_64_id                                                                     \n",
      "76561197960481035                           0.0                           0.0   \n",
      "76561197960497152                           0.0                           0.0   \n",
      "76561197960510804                           0.0                           0.0   \n",
      "76561197960559935                           0.0                           0.0   \n",
      "76561197960716112                           0.0                           0.0   \n",
      "\n",
      "name                Wanba Warriors   War of the Three Kingdoms  \\\n",
      "steam_64_id                                                      \n",
      "76561197960481035              0.0                         0.0   \n",
      "76561197960497152              0.0                         0.0   \n",
      "76561197960510804              0.0                         0.0   \n",
      "76561197960559935              0.0                         0.0   \n",
      "76561197960716112              0.0                         0.0   \n",
      "\n",
      "name                Симулятор Прыгания по Гаражам   \\\n",
      "steam_64_id                                          \n",
      "76561197960481035                              0.0   \n",
      "76561197960497152                              0.0   \n",
      "76561197960510804                              0.0   \n",
      "76561197960559935                              0.0   \n",
      "76561197960716112                              0.0   \n",
      "\n",
      "name                神明的一天世界-God's One Day World  \\\n",
      "steam_64_id                                       \n",
      "76561197960481035                           0.0   \n",
      "76561197960497152                           0.0   \n",
      "76561197960510804                           0.0   \n",
      "76561197960559935                           0.0   \n",
      "76561197960716112                           0.0   \n",
      "\n",
      "name               ! That Bastard Is Trying To Steal Our Gold !  !Anyway!  \\\n",
      "steam_64_id                                                                 \n",
      "76561197960481035                                           0.0       0.0   \n",
      "76561197960497152                                           0.0       0.0   \n",
      "76561197960510804                                           0.0       0.0   \n",
      "76561197960559935                                         280.0       0.0   \n",
      "76561197960716112                                           0.0       0.0   \n",
      "\n",
      "name               \"Glow Ball\" - The billiard puzzle game  #Archery  ...  \\\n",
      "steam_64_id                                                          ...   \n",
      "76561197960481035                                     0.0       0.0  ...   \n",
      "76561197960497152                                     0.0       0.0  ...   \n",
      "76561197960510804                                     0.0       0.0  ...   \n",
      "76561197960559935                                     0.0       0.0  ...   \n",
      "76561197960716112                                     0.0       0.0  ...   \n",
      "\n",
      "name               黄毛漂流记  黏糊笔记  龙魂时刻  신기록 : A Compendium of Ghosts  \\\n",
      "steam_64_id                                                          \n",
      "76561197960481035    0.0   0.0   0.0                           0.0   \n",
      "76561197960497152    0.0   0.0   0.0                           0.0   \n",
      "76561197960510804    0.0   0.0   0.0                           0.0   \n",
      "76561197960559935    0.0   0.0   0.0                           0.0   \n",
      "76561197960716112    0.0   0.0   0.0                           0.0   \n",
      "\n",
      "name               ～Daydream～When butterflies dance  🐰RabbiruN🐰  \\\n",
      "steam_64_id                                                       \n",
      "76561197960481035                               0.0         0.0   \n",
      "76561197960497152                               0.0         0.0   \n",
      "76561197960510804                               0.0         0.0   \n",
      "76561197960559935                               0.0         0.0   \n",
      "76561197960716112                               0.0         0.0   \n",
      "\n",
      "name               👑 Idle Calibur 👑（选王之剑）  👑Idle Calibur：Zero👑  🔴 Circles  \\\n",
      "steam_64_id                                                                 \n",
      "76561197960481035                     0.0                  0.0        0.0   \n",
      "76561197960497152                     0.0                  0.0        0.0   \n",
      "76561197960510804                     0.0                  0.0        0.0   \n",
      "76561197960559935                     0.0                  0.0        0.0   \n",
      "76561197960716112                     0.0                  0.0        0.0   \n",
      "\n",
      "name               🧠 OUT OF THE BOX  \n",
      "steam_64_id                          \n",
      "76561197960481035               0.0  \n",
      "76561197960497152               0.0  \n",
      "76561197960510804               0.0  \n",
      "76561197960559935               0.0  \n",
      "76561197960716112               0.0  \n",
      "\n",
      "[5 rows x 22456 columns]\n"
     ]
    }
   ],
   "source": [
    "# Pivot-Tabelle: Spieler als Zeilen, Spiele als Spalten\n",
    "# Cluster: Spieler mit ähnlichem Spielverhalten gruppieren\n",
    "playtime_matrix = filtered_df.pivot_table(\n",
    "    index='steam_64_id',  # Spieler\n",
    "    columns='name',       # Spiele\n",
    "    values='playtime_forever',  # Spielzeit\n",
    "    fill_value=0          # Fehlende Werte mit 0 auffüllen\n",
    ")\n",
    "\n",
    "print(playtime_matrix.shape)\n",
    "print(playtime_matrix.head())\n"
   ]
  },
  {
   "cell_type": "code",
   "execution_count": 34,
   "metadata": {},
   "outputs": [
    {
     "name": "stdout",
     "output_type": "stream",
     "text": [
      "25228\n",
      "25207\n"
     ]
    }
   ],
   "source": [
    "print(len(valid_players))  # Anzahl Spieler mit Gesamtspielzeit > 0\n",
    "print(filtered_df['steam_64_id'].nunique())  # Spieleranzahl in gefiltertem DataFrame\n"
   ]
  },
  {
   "cell_type": "code",
   "execution_count": 35,
   "metadata": {},
   "outputs": [
    {
     "name": "stdout",
     "output_type": "stream",
     "text": [
      "22494\n",
      "22456\n"
     ]
    }
   ],
   "source": [
    "print(filtered_unique_games_count)  # Anzahl der Spiele in gefiltertem DataFrame\n",
    "print(filtered_df['name'].nunique())  # Validierung der Spieleanzahl\n"
   ]
  },
  {
   "cell_type": "code",
   "execution_count": null,
   "metadata": {},
   "outputs": [],
   "source": [
    "# Speichern der Pivot-Tabelle als CSV, damit sie nicht jedes mal neu erstellt werden muss\n",
    "playtime_matrix.to_csv('playtime_matrix.csv')"
   ]
  },
  {
   "cell_type": "code",
   "execution_count": null,
   "metadata": {},
   "outputs": [],
   "source": [
    "# Laden der Pivot-Tabelle aus der CSV-Datei\n",
    "loaded_playtime_matrix = pd.read_csv('playtime_matrix.csv', index_col=0)"
   ]
  }
 ],
 "metadata": {
  "kernelspec": {
   "display_name": "Python 3",
   "language": "python",
   "name": "python3"
  },
  "language_info": {
   "codemirror_mode": {
    "name": "ipython",
    "version": 3
   },
   "file_extension": ".py",
   "mimetype": "text/x-python",
   "name": "python",
   "nbconvert_exporter": "python",
   "pygments_lexer": "ipython3",
   "version": "3.13.1"
  }
 },
 "nbformat": 4,
 "nbformat_minor": 2
}
