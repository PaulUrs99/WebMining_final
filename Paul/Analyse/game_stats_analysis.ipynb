{
 "cells": [
  {
   "cell_type": "code",
   "execution_count": 2,
   "metadata": {},
   "outputs": [],
   "source": [
    "import pandas as pd\n",
    "import os\n",
    "import numpy as np\n",
    "import json"
   ]
  },
  {
   "cell_type": "code",
   "execution_count": 3,
   "metadata": {},
   "outputs": [
    {
     "name": "stdout",
     "output_type": "stream",
     "text": [
      "405\n",
      "['112_Operator', '60_Seconds!_Reatomized', '7_Days_to_Die', 'A_Dance_of_Fire_and_Ice', 'A_Hat_in_Time', 'A_Little_to_the_Left', 'A_Way_Out', 'Abiotic_Factor', 'Age_of_Empires_II_(2013)', 'Age_of_History_II', 'Albion_Online', 'Alien_Shooter', 'Aliens_vs._Predator', 'American_Truck_Simulator', 'Ancestors_Legacy', 'Arma_3', 'Arma_Reforger', 'Asphalt_Legends_Unite', 'Assetto_Corsa', 'Atom_Fishing_II', 'Atom_Zombie_Smasher_', 'Atomic_Heart', 'Awesomenauts', 'BATTLETECH', 'BRAIN_-_OUT', 'BZZZT', 'Back_to_Bed', 'Backpack_Battles', \"Baldur's_Gate_3\", 'Ballistic_Overkill', 'Barotrauma', 'Battle_Brothers', 'Battlefield_1_™', 'Battlefield_3™_', 'Battlefield_4™_', 'Battlefield™_2042', 'Battlefield™_V', 'Bejeweled_3', 'Bellwright', 'Besiege', 'Big_Ambitions', 'Biped', 'Bit_Heroes', 'Block_N_Load', 'Bloons_TD_6', 'Bloons_TD_Battles', 'Borderlands_3', 'BrainBread_2', 'Brotato', 'Business_Tour_-_Online_Multiplayer_Board_Game', 'Caliber', 'Call_of_Duty®', 'Call_of_Juarez_Gunslinger', 'CarX_Drift_Racing_Online', 'CarX_Street', 'Car_For_Sale_Simulator_2023', 'Car_Mechanic_Simulator_2018', 'Car_Mechanic_Simulator_2021', 'Cat_Quest', 'Cat_Quest_II', 'Cats', 'Celeste', 'Chinese_Chess', 'Chinese_Paladin：Sword_and_Fairy', 'Chivalry_2', 'City_Car_Driving', 'Clicker_Heroes', 'Codename_CURE', 'Company_of_Heroes_2', 'Counter-Strike 2', 'Counter-Strike_2', 'Crash_Bandicoot™_N._Sane_Trilogy', 'Crystal_Clash', 'Cube_Racer', 'Cuphead', 'Cyber_Hook', 'DAVE_THE_DIVER', 'DEATH_STRANDING', 'DEVOUR', 'DIRT_5', 'Darksiders_Warmastered_Edition', 'DayZ', 'Days_Gone', 'Dead_Island_Definitive_Edition', 'Dead_Rising_3', 'Dead_by_Daylight', 'Death_Must_Die', 'Deceit', 'Deep_Rock_Galactic', 'Defense_Grid_2', 'Demonologist', 'Depth', 'Descenders', 'DiRT_Rally', 'DiRT_Rally_2.0', 'Dirty_Bomb', 'Disney_Dreamlight_Valley', \"Don't_Starve\", 'Dragon_Age™_Inquisition', 'Dragon_Saga', 'Drunken_Wrestlers_2', 'Duck_Game', 'Dungeon_Fighter_Online', 'Dungeonborne', 'Dying_Light', 'Dyson_Sphere_Program', 'EA_SPORTS_FC™_24', 'EA_SPORTS_FC™_25', 'EA_SPORTS™_FIFA_21_', 'EA_SPORTS™_FIFA_23', 'ELEX', 'ELEX_II', 'ENDLESS™_Legend', 'ENDLESS™_Space_2', \"Earthling's_Undertaking\", 'Eco', 'Element_TD_2', 'Empires_Apart', 'Endless_Road：Reborn', 'Enlisted', 'Enter_the_Gungeon', 'Euro_Truck_Simulator_2', 'Evolve_Stage_2', 'F1_2015', 'F1_2018', 'F1_2019', 'F1®_Manager_2022', 'FIFA_22', 'FINAL_FANTASY_IX', 'FINAL_FANTASY_XVI', 'Factorio', 'Fallout_Shelter', 'Farm_Together', 'Farthest_Frontier', 'Fisher_Online', 'Fishing_Planet', 'Fistful_of_Frags', 'Football_Manager_2011', 'Football_Manager_2012_Korean', 'Football_Manager_2012_Russian', 'Football_Manager_2013', 'Football_Manager_2014', 'Football_Manager_2015', 'Football_Manager_2016', 'Football_Manager_2017', 'Football_Manager_2018', 'Football_Manager_2019', 'Football_Manager_2020', 'For_The_King', 'Forts', 'Forza_Horizon_4', 'Forza_Horizon_5', 'GRID_2', 'GRID_Autosport', \"Garry's_Mod\", 'Gems_of_War', 'Ghost_Watchers', 'Ghostrunner', 'Gloria_Victis', 'Golf_It!', 'Golf_With_Your_Friends', 'Goose_Goose_Duck', 'Gordian_Quest', 'Governor_of_Poker_3', 'Grand_Theft_Auto_V', 'Green_Hell', 'Grim_Dawn', 'Gunfire_Reborn', 'Hatred', 'Hell_Let_Loose', \"Hero's_Land\", 'Heroes_of_Might_&_Magic_III_-_HD_Edition', 'Hired_Ops', 'Home_Behind', 'Homefront', 'Horizon_Forbidden_West™_Complete_Edition', 'Hotline_Miami', 'House_Flipper', 'How_to_Survive', 'How_to_Survive_2', 'HudSight_-_crosshair_overlay', 'Human_Fall_Flat', 'Icarus', 'Ice_Lakes', 'Idol_Showdown', 'Infected_Shelter', 'Influent', 'Injustice™_2', 'Insanity_Clicker', 'Inside_the_Backrooms', 'Insurgency', 'Island_Saver', 'It_Takes_Two', 'Journey_of_Greed', 'Kalpa_of_Sword', 'Killing_Floor', 'Killing_Floor_2', 'Kingdom_Heroes_8', 'KurtzPel', 'Labyrinthine', 'Lambda_Wars', 'Last_Oasis', 'Leaf_Blower_Revolution_-_Idle_Game', 'Left_4_Dead', 'Left_4_Dead_2', 'Legend_of_Merchant', \"Let's_School\", 'Liftoff', 'Little_Nightmares', 'Little_Nightmares_II', 'Live_Wallpaper_Master', 'Lost_Castle', 'Lost_Castle_2', 'Lucius', 'Luma_Island', 'MONOPOLY_Poker', 'MORDHAU', 'Magicka_2', 'Magicraft', \"Marvel's_Avengers_-_The_Definitive_Edition\", 'Marvel_Rivals', 'Mass_Effect™_Legendary_Edition', 'MechWarrior_Online', 'Medieval_Dynasty', 'Metro_Exodus', 'Metro_Exodus_Enhanced_Edition', 'Microcivilization', 'Microsoft_Flight_Simulator', 'Mindustry', 'Mini_Motorways', 'Miscreated', 'Modern_Combat_Versus', 'Monster_Sanctuary', 'MorphVOX_Pro_4_-_Voice_Changer', 'Mortal_Kombat_Komplete_Edition', 'Move_or_Die', 'MudRunner', 'Muse_Dash', 'Mushroom_Wars_2', 'Necesse', 'Need_for_Speed™_Heat_', 'Need_for_Speed™_Payback', 'Need_for_Speed™_Unbound', 'Night_of_the_Dead', 'Night_of_the_Full_Moon', 'Nioh_2_–_The_Complete_Edition', 'No_More_Room_in_Hell', 'Nobody_-_The_Turnaround', 'Nosgoth', 'Not_For_Broadcast', 'Notes_of_Soul', 'OUTRIDERS', 'One-armed_cook', 'Orcs_Must_Die!_3', 'Ori_and_the_Blind_Forest', 'Ori_and_the_Will_of_the_Wisps', 'Orion_Sandbox_Enhanced', 'PAYDAY 2', 'PAYDAY_2', 'PC_Building_Simulator', 'POSTAL_2', 'Paper_Trail', 'Partisans_1941', 'Path_of_Exile', 'People_Playground', 'Phoenix_Point', 'Planet_Coaster', 'Planet_Zoo', 'Poker_Master', 'Poly_Bridge', 'Portal_2', 'Project_Winter', 'Prominence_Poker', 'Prop_and_Seek', 'Propnight', 'Quake_Live', 'Quantum_Conundrum', 'Raft', 'Ragnarok_Clicker', 'Railroad_Corporation', 'Ranch_Simulator', 'Ready_or_Not', 'Realm_of_the_Mad_God_Exalt', 'Red_Dead_Redemption_2', 'Redmatch_2', 'Rento_Fortune_-_Multiplayer_Board_Game', 'Return_to_Monkey_Island', 'Richman10', 'Richman_11', 'Rise_of_the_Tomb_Raider', 'Rising_Storm-Red_Orchestra_2_Multiplayer', 'Rivals_of_Aether', 'Rivals_of_Aether_II', 'Robocraft', 'Roboquest', 'Rocket_League', 'Rubber_Bandits', 'Rust', \"Rusty's_Retirement\", 'SCUM', 'SILENT_HILL_2', 'STAR_WARS™_Battlefront™_II', 'Satisfactory', 'Secret_Neighbor', 'Shadow_Warrior', 'Shadow_of_the_Tomb_Raider', 'ShellShock_Live', \"Sid_Meier's_Civilization_V\", \"Sid_Meier's_Civilization_VI\", 'Slay_the_Spire', 'Sniper_Ghost_Warrior_3', 'Soldier_Front_2', 'Sonic_Generations', 'Sons_Of_The_Forest', 'Soul_at_Stake_-_1v4', 'Soulstone_Survivors', 'South_Park_The_Fractured_But_Whole', 'Space_Engineers', 'SpeedRunners', 'Spellbreak', 'Spin_Rhythm_XD', 'Spintires®', 'Starbound', 'Stardew_Valley', 'Stranded_Deep', 'Stronghold_2', 'Stronghold_Crusader_2', 'Stumble_Guys', 'Subnautica', 'Sudden_Strike_4', 'Super_Animal_Royale', 'Supreme_Commander_2', 'Survarium', 'Sword_and_Fairy_7', 'TEKKEN_7', 'TEKKEN_8', 'THE_FINALS', 'THE_KING_OF_FIGHTERS_2002_UNLIMITED_MATCH', 'THE_KING_OF_FIGHTERS_XIII_STEAM_EDITION', 'TRIANGLE_STRATEGY', 'Tabletop_Simulator', 'Tactical_Intervention', 'Tasty_Blue', 'Teamfight_Manager', 'Tennis_Elbow_4', 'TerraTech', 'Terraria', 'The_Forest', 'The_Last_Spell', 'The_Last_of_Us™_Part_I', 'The_Long_Dark', 'The_Stanley_Parable', 'They_Are_Billions', 'Third_Crisis', 'Tiny_Rogues', 'Titan_Quest_Anniversary_Edition', 'Titanfall®_2', 'Tomb_Raider_I-III_Remastered_Starring_Lara_Croft', 'Torchlight_II', 'Torque_Drift', 'Totally_Accurate_Battle_Simulator', \"Touhou_Mystia's_Izakaya\", 'Train_Sim_World®_2', 'Train_Simulator_Classic_2024', 'Tropico_6', 'Truck_Life', 'Turmoil', 'Two_Point_Hospital', 'ULTRAKILL', 'Ukrainian_Ninja', 'Ultimate_Fishing_Simulator', 'UnderMine', 'Underrail', 'Undisputed', 'Unturned', 'Vigor', 'Walking_Zombie_2', 'Wallpaper_Engine', 'Wandering_Sword', 'War_Thunder', 'War_of_Rights', 'Warframe', 'Warspear_Online', 'Waveform', 'West_Hunt', 'What_the_Fog', 'Witch_It', 'Wizard_And_Minion_Idle', 'World_War_Z', 'World_of_Tanks', 'World_of_Warships', 'Worms_Reloaded', 'Wreckfest', 'Wurm_Online', 'Ylands', 'Zula_Türkiye', 'art_of_rally', '古剑奇谭二(GuJian2)', '天外武林_(Traveler_of_Wuxia)', '懒人修仙传2', '暖雪_Warm_Snow', '武侠乂', '河洛群俠傳_(Ho_Tu_Lo_Shu_：_The_Books_of_Dragon)', '火炬之光：无限', '轮回修仙路']\n"
     ]
    }
   ],
   "source": [
    "\n",
    "# Datei einlesen\n",
    "ordner_spieldaten = r'C:\\Users\\paulu\\OneDrive\\Dokumente\\GitHub\\WebMining\\Paul\\Spielerdaten'\n",
    "games_data = os.listdir(ordner_spieldaten)\n",
    "#print(games_data)\n",
    "#print(len(games_data))\n",
    "game_names = []\n",
    "#extract all game names from the folder by splitting after the first underscore from the right\n",
    "for game in games_data:\n",
    "    game_names.append(game.rsplit('_',1)[0])\n",
    "game_names_unique = sorted(list(set(game_names)))\n",
    "print(len(game_names_unique))\n",
    "print(game_names_unique)\n"
   ]
  },
  {
   "cell_type": "code",
   "execution_count": 9,
   "metadata": {},
   "outputs": [
    {
     "name": "stdout",
     "output_type": "stream",
     "text": [
      "CSV-Datei wurde erfolgreich erstellt: C:\\Users\\paulu\\OneDrive\\Dokumente\\GitHub\\WebMining\\Paul\\spiel_daten_anzahl.csv\n"
     ]
    }
   ],
   "source": [
    "# Spielnamen extrahieren\n",
    "spielnamen = []\n",
    "\n",
    "# Alle Dateien im Verzeichnis durchgehen\n",
    "for datei in os.listdir(ordner_spieldaten):\n",
    "    if datei.endswith(\".json\"):\n",
    "        spielname = datei.rsplit(\"_\", 1)[0]  # Teil vor dem letzten Unterstrich\n",
    "        spielnamen.append(spielname)\n",
    "\n",
    "# Spiele und Anzahl der Dateien zählen\n",
    "spiel_counts = pd.Series(spielnamen).value_counts().reset_index()\n",
    "spiel_counts.columns = [\"Spielname\", \"Anzahl Dateien\"]\n",
    "\n",
    "# CSV-Datei erstellen\n",
    "Ablageordner = r\"C:\\Users\\paulu\\OneDrive\\Dokumente\\GitHub\\WebMining\\Paul\"\n",
    "csv_datei_pfad = os.path.join(Ablageordner, \"spiel_daten_anzahl.csv\")\n",
    "spiel_counts.to_csv(csv_datei_pfad, index=False, encoding=\"utf-8\")\n",
    "\n",
    "print(f\"CSV-Datei wurde erfolgreich erstellt: {csv_datei_pfad}\")"
   ]
  },
  {
   "cell_type": "code",
   "execution_count": 7,
   "metadata": {},
   "outputs": [
    {
     "name": "stdout",
     "output_type": "stream",
     "text": [
      "Duplicates found:\n"
     ]
    }
   ],
   "source": [
    "from collections import Counter\n",
    "\n",
    "#Check for duplicates in all files starting with \"Counter-Strike_2\"\n",
    "# Check for duplicates in all files starting with \"Counter-Strike_2\"\n",
    "counter = Counter(games_data)\n",
    "duplicates = {file: count for file, count in counter.items() if count > 1 and file.startswith(\"Counter-Strike_2\")}\n",
    "\n",
    "print(\"Duplicates found:\")\n",
    "for file, count in duplicates.items():\n",
    "    print(f\"{file}: {count} times\")\n"
   ]
  }
 ],
 "metadata": {
  "kernelspec": {
   "display_name": "Python 3",
   "language": "python",
   "name": "python3"
  },
  "language_info": {
   "codemirror_mode": {
    "name": "ipython",
    "version": 3
   },
   "file_extension": ".py",
   "mimetype": "text/x-python",
   "name": "python",
   "nbconvert_exporter": "python",
   "pygments_lexer": "ipython3",
   "version": "3.13.1"
  }
 },
 "nbformat": 4,
 "nbformat_minor": 2
}
