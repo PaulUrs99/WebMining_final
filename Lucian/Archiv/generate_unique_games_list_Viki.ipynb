{
 "cells": [
  {
   "cell_type": "code",
   "execution_count": 1,
   "metadata": {},
   "outputs": [],
   "source": [
    "import pandas as pd\n",
    "import os\n",
    "import numpy as np\n",
    "import re\n",
    "import matplotlib.pyplot as plt"
   ]
  },
  {
   "cell_type": "code",
   "execution_count": 2,
   "metadata": {},
   "outputs": [
    {
     "name": "stdout",
     "output_type": "stream",
     "text": [
      "Neues Arbeitsverzeichnis: C:\\Users\\Lucian\\Desktop\\WebMining\n"
     ]
    }
   ],
   "source": [
    "# Arbeitsverzeichnis ändern \n",
    "#neues_verzeichnis = \"c:\\\\Users\\\\lpres\\\\OneDrive - JGU\\\\WMDV\\\\WebMining\"\n",
    "neues_verzeichnis = \"C:\\\\Users\\\\Lucian\\\\Desktop\\\\WebMining\"\n",
    "os.chdir(neues_verzeichnis)\n",
    "\n",
    "# Überprüfen, ob das Verzeichnis geändert wurde\n",
    "print(\"Neues Arbeitsverzeichnis:\", os.getcwd())"
   ]
  },
  {
   "cell_type": "code",
   "execution_count": 3,
   "metadata": {},
   "outputs": [
    {
     "name": "stdout",
     "output_type": "stream",
     "text": [
      "Vorhandene Dateien: ['owned_games_1.csv', 'owned_games_2.csv', 'owned_games_3.csv', 'owned_games_4.csv', 'owned_games_5.csv', 'owned_games_6.csv', 'owned_games_7.csv', 'owned_games_8.csv']\n"
     ]
    },
    {
     "name": "stderr",
     "output_type": "stream",
     "text": [
      "C:\\Users\\Lucian\\AppData\\Local\\Temp\\ipykernel_7676\\35310863.py:14: DtypeWarning: Columns (5) have mixed types. Specify dtype option on import or set low_memory=False.\n",
      "  file_df = pd.read_csv(file, dtype={\n"
     ]
    },
    {
     "name": "stdout",
     "output_type": "stream",
     "text": [
      "alle Dateien eingelesen\n",
      "(8980716, 6)\n"
     ]
    }
   ],
   "source": [
    "# Alle vorhandenen owned_games_x Dateien finden\n",
    "owned_files = [f for f in os.listdir('.') if re.match(r'owned_games_\\d+\\.csv', f)]\n",
    "owned_files.sort(key=lambda x: int(re.search(r'\\d+', x).group()))\n",
    "\n",
    "print(f\"Vorhandene Dateien: {owned_files}\")\n",
    "\n",
    "if not owned_files:\n",
    "    print(\"Keine Dateien im Format 'owned_games_x.csv' gefunden. Das Skript wird beendet.\")\n",
    "\n",
    "# Alle Dateien einlesen und in einem DataFrame speichern\n",
    "pre_df = pd.DataFrame()  # Leerer DataFrame\n",
    "\n",
    "for file in owned_files:\n",
    "    file_df = pd.read_csv(file, dtype={\n",
    "         \"steam_64_id\": str,\n",
    "         \"appid\": \"Int64\",  \n",
    "         \"playtime_forever\": \"Int64\",\n",
    "         \"playtime_2weeks\": \"Int64\"\n",
    "    })\n",
    "    pre_df = pd.concat([pre_df, file_df], ignore_index=True)\n",
    "\n",
    "print(\"alle Dateien eingelesen\")\n",
    "print(pre_df.shape)"
   ]
  },
  {
   "cell_type": "code",
   "execution_count": 20,
   "metadata": {},
   "outputs": [
    {
     "name": "stdout",
     "output_type": "stream",
     "text": [
      "(5528936, 6)\n",
      "3451780 Duplikate wurden entfernt\n"
     ]
    }
   ],
   "source": [
    "# Duplikate und \"No Games\" rausschmeißen\n",
    "h_df = pre_df.drop_duplicates(keep=\"first\")\n",
    "h_df = h_df[h_df[\"name\"] != \"No Games\"]\n",
    "dropped_rows = pre_df.shape[0] - h_df.shape[0]\n",
    "print(h_df.shape)\n",
    "print(f\"{dropped_rows} Duplikate wurden entfernt\")"
   ]
  },
  {
   "cell_type": "code",
   "execution_count": 21,
   "metadata": {},
   "outputs": [
    {
     "name": "stdout",
     "output_type": "stream",
     "text": [
      "(5469541, 6)\n",
      "59395 Duplikate wurden entfernt (behalten wurde die Zeile mit der höchsten Spielzeit pro Spieler-Spiel-Kombination).\n"
     ]
    }
   ],
   "source": [
    "# Sortieren nach höchster Spielzeit und dann Duplikate entfernen. Falls steam_id mehrfach abgefragt wurde, sollen die einträge behalten werden, die am neuesten sind (max(playtime_forever))\n",
    "df = h_df.sort_values(by=\"playtime_forever\", ascending=False).drop_duplicates(subset=[\"steam_64_id\", \"name\"], keep=\"first\")\n",
    "\n",
    "# Anzahl der entfernten Duplikate berechnen\n",
    "dropped_rows = h_df.shape[0] - df.shape[0]\n",
    "\n",
    "print(df.shape)\n",
    "print(f\"{dropped_rows} Duplikate wurden entfernt (behalten wurde die Zeile mit der höchsten Spielzeit pro Spieler-Spiel-Kombination).\")\n"
   ]
  },
  {
   "cell_type": "code",
   "execution_count": null,
   "metadata": {},
   "outputs": [
    {
     "name": "stdout",
     "output_type": "stream",
     "text": [
      "4050525 weitere Zeilen wurden entfernt\n"
     ]
    }
   ],
   "source": [
    "# Datensatz reduzieren auf Spiele, die von mindestens 2500 Spielern gespielt werden\n",
    "spiel_counts = df['name'].value_counts()\n",
    "filtered_games = df[df['name'].isin(spiel_counts[spiel_counts >= 2500].index)]\n",
    "\n",
    "dropped_rows = df.shape[0] - filtered_games.shape[0]\n",
    "print(f\"{dropped_rows} weitere Zeilen wurden entfernt\")"
   ]
  },
  {
   "cell_type": "code",
   "execution_count": 6,
   "metadata": {},
   "outputs": [
    {
     "data": {
      "text/plain": [
       "(275, 6)"
      ]
     },
     "execution_count": 6,
     "metadata": {},
     "output_type": "execute_result"
    }
   ],
   "source": [
    "# Erstellen einer Liste, die jedes relevante Spiel genau einmal enthält \n",
    "unique_games = filtered_games.drop_duplicates(subset=[\"name\"], keep=\"first\")\n",
    "unique_games = unique_games[unique_games[\"name\"] != \"No Games\"]\n",
    "unique_games.shape"
   ]
  },
  {
   "cell_type": "code",
   "execution_count": 24,
   "metadata": {},
   "outputs": [
    {
     "data": {
      "text/plain": [
       "name\n",
       "Counter-Strike 2                             37329\n",
       "Dota 2                                       35295\n",
       "PUBG: BATTLEGROUNDS                          29224\n",
       "Wallpaper Engine                             18496\n",
       "Left 4 Dead 2                                18491\n",
       "                                             ...  \n",
       "Dark and Darker                               2563\n",
       "World of Tanks                                2559\n",
       "HELLDIVERS™ 2                                 2535\n",
       "A Story About My Uncle                        2518\n",
       "Grand Theft Auto IV: The Complete Edition     2516\n",
       "Name: steam_64_id, Length: 266, dtype: int64"
      ]
     },
     "execution_count": 24,
     "metadata": {},
     "output_type": "execute_result"
    }
   ],
   "source": [
    "unique_players_per_game = filtered_games.groupby('name')['steam_64_id'].nunique()\n",
    "unique_players_per_game = unique_players_per_game.sort_values(ascending=False)\n",
    "unique_players_per_game"
   ]
  },
  {
   "cell_type": "code",
   "execution_count": 54,
   "metadata": {},
   "outputs": [],
   "source": [
    "# Liste, die jedes relevante Spiel genau einmal enthält speichern\n",
    "unique_games.to_csv('unique_games.csv', index=False)"
   ]
  },
  {
   "cell_type": "code",
   "execution_count": 25,
   "metadata": {},
   "outputs": [
    {
     "data": {
      "text/plain": [
       "name\n",
       "Counter-Strike 2                             37329\n",
       "Dota 2                                       35295\n",
       "PUBG: BATTLEGROUNDS                          29224\n",
       "Wallpaper Engine                             18496\n",
       "Left 4 Dead 2                                18491\n",
       "                                             ...  \n",
       "Dark and Darker                               2563\n",
       "World of Tanks                                2559\n",
       "HELLDIVERS™ 2                                 2535\n",
       "A Story About My Uncle                        2518\n",
       "Grand Theft Auto IV: The Complete Edition     2516\n",
       "Name: count, Length: 266, dtype: int64"
      ]
     },
     "execution_count": 25,
     "metadata": {},
     "output_type": "execute_result"
    }
   ],
   "source": [
    "# Wie viele Leute spielen welches Spiel wie oft im gegebenen Datensatz?\n",
    "unique_spiel_counts = filtered_games[\"name\"].value_counts()\n",
    "unique_spiel_counts"
   ]
  }
 ],
 "metadata": {
  "kernelspec": {
   "display_name": "Python 3",
   "language": "python",
   "name": "python3"
  },
  "language_info": {
   "codemirror_mode": {
    "name": "ipython",
    "version": 3
   },
   "file_extension": ".py",
   "mimetype": "text/x-python",
   "name": "python",
   "nbconvert_exporter": "python",
   "pygments_lexer": "ipython3",
   "version": "3.12.7"
  }
 },
 "nbformat": 4,
 "nbformat_minor": 2
}
