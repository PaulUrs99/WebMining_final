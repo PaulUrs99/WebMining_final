{
 "cells": [
  {
   "cell_type": "code",
   "execution_count": 1,
   "metadata": {},
   "outputs": [],
   "source": [
    "import pandas as pd\n",
    "import os\n",
    "import numpy as np\n",
    "import re\n",
    "import matplotlib.pyplot as plt"
   ]
  },
  {
   "cell_type": "code",
   "execution_count": 3,
   "metadata": {},
   "outputs": [
    {
     "name": "stdout",
     "output_type": "stream",
     "text": [
      "Neues Arbeitsverzeichnis: C:\\Users\\Lucian\\Desktop\\WebMining\n",
      "Vorhandene Dateien: ['owned_games_1.csv', 'owned_games_2.csv', 'owned_games_3.csv', 'owned_games_4.csv', 'owned_games_5.csv', 'owned_games_6.csv']\n"
     ]
    },
    {
     "name": "stderr",
     "output_type": "stream",
     "text": [
      "C:\\Users\\Lucian\\AppData\\Local\\Temp\\ipykernel_17380\\741617666.py:22: DtypeWarning: Columns (5) have mixed types. Specify dtype option on import or set low_memory=False.\n",
      "  file_df = pd.read_csv(file, dtype={\n"
     ]
    },
    {
     "name": "stdout",
     "output_type": "stream",
     "text": [
      "alle Dateien eingelesen\n"
     ]
    }
   ],
   "source": [
    "# Arbeitsverzeichnis ändern \n",
    "#neues_verzeichnis = \"c:\\\\Users\\\\lpres\\\\OneDrive - JGU\\\\WMDV\\\\WebMining\"\n",
    "neues_verzeichnis = \"C:\\\\Users\\\\Lucian\\\\Desktop\\\\WebMining\"\n",
    "os.chdir(neues_verzeichnis)\n",
    "\n",
    "# Überprüfen, ob das Verzeichnis geändert wurde\n",
    "print(\"Neues Arbeitsverzeichnis:\", os.getcwd())\n",
    "\n",
    "# Alle vorhandenen owned_games_x Dateien finden\n",
    "owned_files = [f for f in os.listdir('.') if re.match(r'owned_games_\\d+\\.csv', f)]\n",
    "owned_files.sort(key=lambda x: int(re.search(r'\\d+', x).group()))\n",
    "\n",
    "print(f\"Vorhandene Dateien: {owned_files}\")\n",
    "\n",
    "if not owned_files:\n",
    "    print(\"Keine Dateien im Format 'owned_games_x.csv' gefunden. Das Skript wird beendet.\")\n",
    "\n",
    "# Alle Dateien einlesen und in einem DataFrame speichern\n",
    "pre_df = pd.DataFrame()  # Leerer DataFrame\n",
    "\n",
    "for file in owned_files:\n",
    "    file_df = pd.read_csv(file, dtype={\n",
    "         \"steam_64_id\": str,\n",
    "         \"appid\": \"Int64\",  \n",
    "         \"playtime_forever\": \"Int64\",\n",
    "         \"playtime_2weeks\": \"Int64\"\n",
    "    })\n",
    "    pre_df = pd.concat([pre_df, file_df], ignore_index=True)\n",
    "\n",
    "print(\"alle Dateien eingelesen\")"
   ]
  },
  {
   "cell_type": "code",
   "execution_count": 4,
   "metadata": {},
   "outputs": [
    {
     "name": "stdout",
     "output_type": "stream",
     "text": [
      "Bereinigte Spieler-Zusammenfassung (erste Zeilen):\n",
      "         steam_64_id  total_playtime  total_games  active_games  \\\n",
      "0                  0               0         4601             0   \n",
      "1  76561197960359575          135353          158             0   \n",
      "2  76561197960454727               0           18             0   \n",
      "3  76561197960481035          747333          275             3   \n",
      "4  76561197960487929               0          127             0   \n",
      "\n",
      "   avg_playtime_per_game  \n",
      "0                    0.0  \n",
      "1             856.664557  \n",
      "2                    0.0  \n",
      "3            2717.574545  \n",
      "4                    0.0  \n"
     ]
    }
   ],
   "source": [
    "# Konvertiere `appid` in einen Integer-Typ (falls möglich) und überprüfe auf fehlende Werte\n",
    "pre_df['appid'] = pd.to_numeric(pre_df['appid'], errors='coerce', downcast='integer')\n",
    "\n",
    "combined_data = pre_df.dropna(subset=['steam_64_id', 'appid'])\n",
    "\n",
    "# Bereinige und aggregiere Daten: Spieler-Zusammenfassung\n",
    "player_summary = combined_data.groupby('steam_64_id').agg(\n",
    "\n",
    "    total_playtime=('playtime_forever', 'sum'),\n",
    "\n",
    "    total_games=('appid', 'count'),\n",
    "\n",
    "    active_games=('playtime_2weeks', lambda x: (x > 0).sum())\n",
    "\n",
    ").reset_index()\n",
    "\n",
    "# Berechne weitere Merkmale\n",
    "player_summary['avg_playtime_per_game'] = player_summary['total_playtime'] / player_summary['total_games']\n",
    "player_summary = player_summary.fillna(0)  # Setze NaN-Werte auf 0\n",
    "\n",
    "# Überblick der bereinigten Daten\n",
    "print(\"Bereinigte Spieler-Zusammenfassung (erste Zeilen):\")\n",
    "\n",
    "print(player_summary.head())"
   ]
  }
 ],
 "metadata": {
  "kernelspec": {
   "display_name": "Python 3",
   "language": "python",
   "name": "python3"
  },
  "language_info": {
   "codemirror_mode": {
    "name": "ipython",
    "version": 3
   },
   "file_extension": ".py",
   "mimetype": "text/x-python",
   "name": "python",
   "nbconvert_exporter": "python",
   "pygments_lexer": "ipython3",
   "version": "3.12.7"
  }
 },
 "nbformat": 4,
 "nbformat_minor": 2
}
