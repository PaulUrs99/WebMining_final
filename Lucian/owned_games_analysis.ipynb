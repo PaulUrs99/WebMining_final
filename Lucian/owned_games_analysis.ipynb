{
 "cells": [
  {
   "cell_type": "code",
   "execution_count": 1,
   "metadata": {},
   "outputs": [],
   "source": [
    "import pandas as pd\n",
    "import os\n",
    "import numpy as np\n",
    "import re\n",
    "import matplotlib.pyplot as plt"
   ]
  },
  {
   "cell_type": "code",
   "execution_count": 2,
   "metadata": {},
   "outputs": [
    {
     "name": "stdout",
     "output_type": "stream",
     "text": [
      "Neues Arbeitsverzeichnis: C:\\Users\\Lucian\\Desktop\\WebMining\n"
     ]
    }
   ],
   "source": [
    "# Arbeitsverzeichnis ändern \n",
    "#neues_verzeichnis = \"c:\\\\Users\\\\lpres\\\\OneDrive - JGU\\\\WMDV\\\\WebMining\"\n",
    "neues_verzeichnis = \"C:\\\\Users\\\\Lucian\\\\Desktop\\\\WebMining\"\n",
    "os.chdir(neues_verzeichnis)\n",
    "\n",
    "# Überprüfen, ob das Verzeichnis geändert wurde\n",
    "print(\"Neues Arbeitsverzeichnis:\", os.getcwd())"
   ]
  },
  {
   "cell_type": "code",
   "execution_count": 3,
   "metadata": {},
   "outputs": [
    {
     "name": "stdout",
     "output_type": "stream",
     "text": [
      "Vorhandene Dateien: ['owned_games_1.csv', 'owned_games_2.csv', 'owned_games_3.csv', 'owned_games_4.csv', 'owned_games_5.csv', 'owned_games_6.csv', 'owned_games_7.csv', 'owned_games_8.csv', 'owned_games_9.csv']\n"
     ]
    },
    {
     "name": "stderr",
     "output_type": "stream",
     "text": [
      "C:\\Users\\Lucian\\AppData\\Local\\Temp\\ipykernel_17792\\35310863.py:14: DtypeWarning: Columns (5) have mixed types. Specify dtype option on import or set low_memory=False.\n",
      "  file_df = pd.read_csv(file, dtype={\n"
     ]
    },
    {
     "name": "stdout",
     "output_type": "stream",
     "text": [
      "alle Dateien eingelesen\n",
      "(10245880, 6)\n"
     ]
    }
   ],
   "source": [
    "# Alle vorhandenen owned_games_x Dateien finden\n",
    "owned_files = [f for f in os.listdir('.') if re.match(r'owned_games_\\d+\\.csv', f)]\n",
    "owned_files.sort(key=lambda x: int(re.search(r'\\d+', x).group()))\n",
    "\n",
    "print(f\"Vorhandene Dateien: {owned_files}\")\n",
    "\n",
    "if not owned_files:\n",
    "    print(\"Keine Dateien im Format 'owned_games_x.csv' gefunden. Das Skript wird beendet.\")\n",
    "\n",
    "# Alle Dateien einlesen und in einem DataFrame speichern\n",
    "pre_df = pd.DataFrame()  # Leerer DataFrame\n",
    "\n",
    "for file in owned_files:\n",
    "    file_df = pd.read_csv(file, dtype={\n",
    "         \"steam_64_id\": str,\n",
    "         \"appid\": \"Int64\",  \n",
    "         \"playtime_forever\": \"Int64\",\n",
    "         \"playtime_2weeks\": \"Int64\"\n",
    "    })\n",
    "    pre_df = pd.concat([pre_df, file_df], ignore_index=True)\n",
    "\n",
    "print(\"alle Dateien eingelesen\")\n",
    "print(pre_df.shape)"
   ]
  },
  {
   "cell_type": "code",
   "execution_count": 4,
   "metadata": {},
   "outputs": [
    {
     "name": "stdout",
     "output_type": "stream",
     "text": [
      "(5800632, 6)\n",
      "4445248 Duplikate wurden entfernt\n"
     ]
    }
   ],
   "source": [
    "# Duplikate und \"No Games\" rausschmeißen\n",
    "h_df = pre_df.drop_duplicates(keep=\"first\")\n",
    "h_df = h_df[h_df[\"name\"] != \"No Games\"]\n",
    "dropped_rows = pre_df.shape[0] - h_df.shape[0]\n",
    "print(h_df.shape)\n",
    "print(f\"{dropped_rows} Duplikate wurden entfernt\")"
   ]
  },
  {
   "cell_type": "code",
   "execution_count": 5,
   "metadata": {},
   "outputs": [
    {
     "name": "stdout",
     "output_type": "stream",
     "text": [
      "(5728321, 6)\n",
      "72311 Duplikate wurden entfernt (behalten wurde die Zeile mit der höchsten Spielzeit pro Spieler-Spiel-Kombination).\n"
     ]
    }
   ],
   "source": [
    "# Sortieren nach höchster Spielzeit und dann Duplikate entfernen. Falls steam_id mehrfach abgefragt wurde, sollen die einträge behalten werden, die am neuesten sind (max(playtime_forever))\n",
    "df = h_df.sort_values(by=\"playtime_forever\", ascending=False).drop_duplicates(subset=[\"steam_64_id\", \"name\"], keep=\"first\")\n",
    "\n",
    "# Anzahl der entfernten Duplikate berechnen\n",
    "dropped_rows = h_df.shape[0] - df.shape[0]\n",
    "\n",
    "print(df.shape)\n",
    "print(f\"{dropped_rows} Duplikate wurden entfernt (behalten wurde die Zeile mit der höchsten Spielzeit pro Spieler-Spiel-Kombination).\")"
   ]
  },
  {
   "cell_type": "code",
   "execution_count": 7,
   "metadata": {},
   "outputs": [
    {
     "name": "stdout",
     "output_type": "stream",
     "text": [
      "4131019 weitere Zeilen wurden entfernt\n",
      "(1597302, 6)\n"
     ]
    }
   ],
   "source": [
    "# Datensatz reduzieren auf Spiele, die von mindestens 2500 Spielern gespielt werden\n",
    "spiel_counts = df['name'].value_counts()\n",
    "filtered_games = df[df['name'].isin(spiel_counts[spiel_counts >= 2500].index)]\n",
    "\n",
    "dropped_rows = df.shape[0] - filtered_games.shape[0]\n",
    "print(f\"{dropped_rows} weitere Zeilen wurden entfernt\")\n",
    "print(filtered_games.shape)"
   ]
  },
  {
   "cell_type": "code",
   "execution_count": 11,
   "metadata": {},
   "outputs": [
    {
     "data": {
      "text/plain": [
       "name\n",
       "Counter-Strike 2         40475\n",
       "Dota 2                   38240\n",
       "PUBG: BATTLEGROUNDS      31645\n",
       "Apex Legends             19979\n",
       "Wallpaper Engine         19885\n",
       "                         ...  \n",
       "Saints Row: The Third     2531\n",
       "Age of Wonders III        2521\n",
       "PAYDAY: The Heist         2510\n",
       "Liar's Bar                2510\n",
       "Hogwarts Legacy           2500\n",
       "Name: steam_64_id, Length: 296, dtype: int64"
      ]
     },
     "execution_count": 11,
     "metadata": {},
     "output_type": "execute_result"
    }
   ],
   "source": [
    "unique_players_per_game = filtered_games.groupby('name')['steam_64_id'].nunique()\n",
    "unique_players_per_game = unique_players_per_game.sort_values(ascending=False)\n",
    "unique_players_per_game"
   ]
  },
  {
   "cell_type": "code",
   "execution_count": 9,
   "metadata": {},
   "outputs": [
    {
     "data": {
      "text/plain": [
       "name\n",
       "Counter-Strike 2         40475\n",
       "Dota 2                   38240\n",
       "PUBG: BATTLEGROUNDS      31645\n",
       "Apex Legends             19979\n",
       "Wallpaper Engine         19885\n",
       "                         ...  \n",
       "Saints Row: The Third     2531\n",
       "Age of Wonders III        2521\n",
       "Liar's Bar                2510\n",
       "PAYDAY: The Heist         2510\n",
       "Hogwarts Legacy           2500\n",
       "Name: count, Length: 296, dtype: int64"
      ]
     },
     "execution_count": 9,
     "metadata": {},
     "output_type": "execute_result"
    }
   ],
   "source": [
    "# Anzahl der einzigartigen Spiele\n",
    "unique_spiel_counts = filtered_games[\"name\"].value_counts()\n",
    "unique_spiel_counts"
   ]
  },
  {
   "cell_type": "code",
   "execution_count": 13,
   "metadata": {},
   "outputs": [
    {
     "name": "stdout",
     "output_type": "stream",
     "text": [
      "531505 Zeilen mit playtime_forever == 0 wurden entfernt\n",
      "(1065797, 6)\n"
     ]
    }
   ],
   "source": [
    "#Mit fitlered_games als df weiter\n",
    "df = filtered_games\n",
    "\n",
    "# Filter out rows where the playtime_forever is zero (i.e., players who haven't played the game)\n",
    "df = df[df['playtime_forever'] > 0]\n",
    "\n",
    "dropped_rows = filtered_games.shape[0] - df.shape[0]\n",
    "print(f\"{dropped_rows} Zeilen mit playtime_forever == 0 wurden entfernt\")\n",
    "print(df.shape)"
   ]
  }
 ],
 "metadata": {
  "kernelspec": {
   "display_name": "Python 3",
   "language": "python",
   "name": "python3"
  },
  "language_info": {
   "codemirror_mode": {
    "name": "ipython",
    "version": 3
   },
   "file_extension": ".py",
   "mimetype": "text/x-python",
   "name": "python",
   "nbconvert_exporter": "python",
   "pygments_lexer": "ipython3",
   "version": "3.12.7"
  }
 },
 "nbformat": 4,
 "nbformat_minor": 2
}
