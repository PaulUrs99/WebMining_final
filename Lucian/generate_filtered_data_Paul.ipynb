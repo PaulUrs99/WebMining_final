{
 "cells": [
  {
   "cell_type": "code",
   "execution_count": 1,
   "metadata": {},
   "outputs": [],
   "source": [
    "import pandas as pd\n",
    "import os\n",
    "import numpy as np\n",
    "import re"
   ]
  },
  {
   "cell_type": "code",
   "execution_count": 4,
   "metadata": {},
   "outputs": [
    {
     "name": "stdout",
     "output_type": "stream",
     "text": [
      "Neues Arbeitsverzeichnis: C:\\Users\\Lucian\\Desktop\\WebMining\n"
     ]
    }
   ],
   "source": [
    "# Arbeitsverzeichnis ändern \n",
    "#neues_verzeichnis = \"c:\\\\Users\\\\lpres\\\\OneDrive - JGU\\\\WMDV\\\\WebMining\"\n",
    "neues_verzeichnis = \"C:\\\\Users\\\\Lucian\\\\Desktop\\\\WebMining\"\n",
    "os.chdir(neues_verzeichnis)\n",
    "\n",
    "# Überprüfen, ob das Verzeichnis geändert wurde\n",
    "print(\"Neues Arbeitsverzeichnis:\", os.getcwd())"
   ]
  },
  {
   "cell_type": "code",
   "execution_count": 11,
   "metadata": {},
   "outputs": [
    {
     "name": "stdout",
     "output_type": "stream",
     "text": [
      "(939957, 6)\n",
      "(937275, 6)\n"
     ]
    }
   ],
   "source": [
    "file = \"owned_games_5.csv\"\n",
    "\n",
    "df = pd.read_csv(file, dtype={\n",
    "         \"steam_64_id\": str,\n",
    "         \"appid\": \"Int64\",  \n",
    "         \"playtime_forever\": \"Int64\",\n",
    "         \"playtime_2weeks\": \"Int64\"\n",
    "    })\n",
    "\n",
    "print(df.shape)\n",
    "\n",
    "unique_df = df.drop_duplicates()\n",
    "\n",
    "print(unique_df.shape)"
   ]
  },
  {
   "cell_type": "code",
   "execution_count": 3,
   "metadata": {},
   "outputs": [
    {
     "name": "stdout",
     "output_type": "stream",
     "text": [
      "Vorhandene Dateien: ['owned_games_1.csv', 'owned_games_2.csv', 'owned_games_3.csv', 'owned_games_4.csv', 'owned_games_5.csv']\n"
     ]
    },
    {
     "name": "stderr",
     "output_type": "stream",
     "text": [
      "C:\\Users\\lpres\\AppData\\Local\\Temp\\ipykernel_12552\\1367417926.py:14: DtypeWarning: Columns (5) have mixed types. Specify dtype option on import or set low_memory=False.\n",
      "  file_df = pd.read_csv(file, dtype={\n"
     ]
    },
    {
     "name": "stdout",
     "output_type": "stream",
     "text": [
      "alle Dateien eingelesen\n"
     ]
    }
   ],
   "source": [
    "# Alle vorhandenen owned_games_x Dateien finden\n",
    "owned_files = [f for f in os.listdir('.') if re.match(r'owned_games_\\d+\\.csv', f)]\n",
    "owned_files.sort(key=lambda x: int(re.search(r'\\d+', x).group()))\n",
    "\n",
    "print(f\"Vorhandene Dateien: {owned_files}\")\n",
    "\n",
    "if not owned_files:\n",
    "    print(\"Keine Dateien im Format 'owned_games_x.csv' gefunden. Das Skript wird beendet.\")\n",
    "\n",
    "# Alle Dateien einlesen und in einem DataFrame speichern\n",
    "df = pd.DataFrame()  # Leerer DataFrame\n",
    "\n",
    "for file in owned_files:\n",
    "    file_df = pd.read_csv(file, dtype={\n",
    "         \"steam_64_id\": str,\n",
    "         \"appid\": \"Int64\",  \n",
    "         \"playtime_forever\": \"Int64\",\n",
    "         \"playtime_2weeks\": \"Int64\"\n",
    "    })\n",
    "    df = pd.concat([df, file_df], ignore_index=True)\n",
    "\n",
    "print(\"alle Dateien eingelesen\")"
   ]
  },
  {
   "cell_type": "code",
   "execution_count": 16,
   "metadata": {},
   "outputs": [
    {
     "name": "stdout",
     "output_type": "stream",
     "text": [
      "         steam_64_id   appid                    name  playtime_forever  \\\n",
      "0  76561198217215311  109410           Brawl Busters                 0   \n",
      "1  76561198217215311  304930                Unturned                 0   \n",
      "2  76561198217215311  339280                  Strife                 0   \n",
      "3  76561198217215311  444090                Paladins                 0   \n",
      "4  76561198217215311  596350  Paladins - Public Test                 0   \n",
      "\n",
      "   playtime_2weeks has_community_visible_stats  \n",
      "0                0                        True  \n",
      "1                0                        True  \n",
      "2                0                        True  \n",
      "3                0                        True  \n",
      "4                0                       False  \n",
      "(5024846, 6)\n"
     ]
    }
   ],
   "source": [
    "# Ausgabe der ersten Zeilen\n",
    "print(df.head())\n",
    "print(df.shape)"
   ]
  },
  {
   "cell_type": "code",
   "execution_count": 17,
   "metadata": {},
   "outputs": [
    {
     "name": "stdout",
     "output_type": "stream",
     "text": [
      "Größe des Datensatzes:  (5024846, 6)\n",
      "Anzahl der Spieler:  35021\n",
      "Anzahl der einzigartigen Spiele:  36617\n",
      "Spiele, die von den meisten Spielern gespielt werden:  name\n",
      "Counter-Strike 2         35598\n",
      "Dota 2                   33951\n",
      "PUBG: BATTLEGROUNDS      27659\n",
      "Wallpaper Engine         17341\n",
      "Left 4 Dead 2            17266\n",
      "Apex Legends             17146\n",
      "PAYDAY 2                 13734\n",
      "Warframe                 13600\n",
      "Dota Underlords          13354\n",
      "Don't Starve Together    12826\n",
      "Name: count, dtype: int64\n",
      "Spiele mit der meisten Spielzeit:  name\n",
      "Dota 2                            6930350825\n",
      "Counter-Strike 2                  1616206994\n",
      "PUBG: BATTLEGROUNDS                450094073\n",
      "Grand Theft Auto V                 219283819\n",
      "Rust                               184708641\n",
      "Apex Legends                       137958225\n",
      "Tom Clancy's Rainbow Six Siege     118049317\n",
      "Warframe                           100389571\n",
      "Wallpaper Engine                    79939484\n",
      "Team Fortress 2                     78496349\n",
      "Name: playtime_forever, dtype: Int64\n",
      "Spieler mit der meisten Spielzeit:  steam_64_id\n",
      "76561198393005716    410165441\n",
      "76561198272436743    141654945\n",
      "76561198399183384     85577148\n",
      "76561198410958939     76114420\n",
      "76561198187952672     74640332\n",
      "76561198272436736     70772187\n",
      "76561198950206040     62631864\n",
      "76561198267398960     43815506\n",
      "76561198410958944     38047820\n",
      "76561198047346496     30646430\n",
      "Name: playtime_forever, dtype: Int64\n"
     ]
    }
   ],
   "source": [
    "# Größe des Datensatzes\n",
    "dataset_size = df.shape\n",
    "\n",
    "# Anzahl der Spieler\n",
    "player_count = df['steam_64_id'].nunique()\n",
    "\n",
    "# Anzahl der einzigartigen Spiele (basierend auf AppID)\n",
    "unique_games_count = df['appid'].nunique()\n",
    "\n",
    "# Spiele, die von den meisten Spielern gespielt werden\n",
    "most_played_games = df['name'].value_counts().head(10)\n",
    "\n",
    "# Spiele mit der meisten Spielzeit (gemessen an \"playtime_forever\")\n",
    "most_played_time_games = df.groupby('name')['playtime_forever'].sum().sort_values(ascending=False).head(10)\n",
    "# groupby --> ein Eintrag pro Spiel; playtime_forever summiert für alle Spieler\n",
    "\n",
    "most_playing_player = df.groupby('steam_64_id')['playtime_forever'].sum().sort_values(ascending=False).head(10)\n",
    "\n",
    "\n",
    "print('Größe des Datensatzes: ', dataset_size)\n",
    "print('Anzahl der Spieler: ', player_count)\n",
    "print('Anzahl der einzigartigen Spiele: ', unique_games_count)\n",
    "print('Spiele, die von den meisten Spielern gespielt werden: ', most_played_games)\n",
    "print('Spiele mit der meisten Spielzeit: ', most_played_time_games)\n",
    "print('Spieler mit der meisten Spielzeit: ', most_playing_player)\n"
   ]
  },
  {
   "cell_type": "markdown",
   "metadata": {},
   "source": [
    "Daten für Vergleichsdashboard"
   ]
  },
  {
   "cell_type": "code",
   "execution_count": 10,
   "metadata": {},
   "outputs": [],
   "source": [
    "#Daten für Vergleich filtern\n",
    "\n",
    "#Rausfiltern aller Spieler, die eins der folgenden Spiele mindestens 10 stunden gespielt haben und has_community_visible_stats = True\n",
    "#appid\": 730, \"name\": \"Counter-Strike 2\"\n",
    "#appid\": 240, \"name\": \"Counter-Strike: Source\"\n",
    "#appid\": 648800, \"name\": \"Raft\"\n",
    "#appid\": 252490, \"name\": \"Rust\"\n",
    "#appid\": 221100, \"name\": \"DayZ\"\n",
    "#appid\": 218620, \"name\": \"Payday2\"\n",
    "#appid\": 222880, \"name\": \"Insurgency\"\n",
    "\n",
    "games = [730, 240, 648800, 252490, 221100, 218620, 222880]\n",
    "\n",
    "df_filtered = df[(df['appid'].isin(games)) & (df['playtime_forever'] >= 600) & (df['has_community_visible_stats'] == True)]\n",
    "\n",
    "\n"
   ]
  },
  {
   "cell_type": "code",
   "execution_count": 18,
   "metadata": {},
   "outputs": [
    {
     "name": "stdout",
     "output_type": "stream",
     "text": [
      "Größe des Datensatzes:  (43352, 6)\n",
      "Anzahl der Spieler:  19778\n",
      "Anzahl der einzigartigen Spiele:  7\n",
      "\n",
      "Spiele, die von den meisten Spielern gespielt werden:  name\n",
      "Counter-Strike 2          26102\n",
      "PAYDAY 2                   5122\n",
      "Rust                       4802\n",
      "Raft                       2579\n",
      "DayZ                       1933\n",
      "Counter-Strike: Source     1774\n",
      "Insurgency                 1040\n",
      "Name: count, dtype: int64\n",
      "Spiele mit der meisten Spielzeit:  name\n",
      "Counter-Strike 2          1615245642\n",
      "Rust                       184306236\n",
      "PAYDAY 2                    48809595\n",
      "Counter-Strike: Source      48665205\n",
      "DayZ                        46192506\n",
      "Raft                         7615038\n",
      "Insurgency                   4576079\n",
      "Name: playtime_forever, dtype: Int64\n"
     ]
    }
   ],
   "source": [
    "# Größe des Datensatzes\n",
    "dataset_size = df_filtered.shape\n",
    "\n",
    "# Anzahl der Spieler\n",
    "player_count = df_filtered['steam_64_id'].nunique()\n",
    "\n",
    "# Anzahl der einzigartigen Spiele (basierend auf AppID)\n",
    "unique_games_count = df_filtered['appid'].nunique()\n",
    "\n",
    "# Spiele, die von den meisten Spielern gespielt werden\n",
    "most_played_games = df_filtered['name'].value_counts().head(10)\n",
    "\n",
    "# Spiele mit der meisten Spielzeit (gemessen an \"playtime_forever\")\n",
    "most_played_time_games = df_filtered.groupby('name')['playtime_forever'].sum().sort_values(ascending=False).head(10)\n",
    "# groupby --> ein Eintrag pro Spiel; playtime_forever summiert für alle Spieler\n",
    "\n",
    "print('Größe des Datensatzes: ', dataset_size)\n",
    "print('Anzahl der Spieler: ', player_count)\n",
    "print('Anzahl der einzigartigen Spiele: ', unique_games_count)\n",
    "print()\n",
    "print('Spiele, die von den meisten Spielern gespielt werden: ', most_played_games)\n",
    "print('Spiele mit der meisten Spielzeit: ', most_played_time_games)"
   ]
  },
  {
   "cell_type": "code",
   "execution_count": 12,
   "metadata": {},
   "outputs": [],
   "source": [
    "#Daten für Spielervergleich speichern\n",
    "df_filtered.to_csv('filtered_data.csv', index=False)"
   ]
  }
 ],
 "metadata": {
  "kernelspec": {
   "display_name": "Python 3",
   "language": "python",
   "name": "python3"
  },
  "language_info": {
   "codemirror_mode": {
    "name": "ipython",
    "version": 3
   },
   "file_extension": ".py",
   "mimetype": "text/x-python",
   "name": "python",
   "nbconvert_exporter": "python",
   "pygments_lexer": "ipython3",
   "version": "3.12.7"
  }
 },
 "nbformat": 4,
 "nbformat_minor": 2
}
